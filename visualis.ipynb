{
 "metadata": {
  "language_info": {
   "codemirror_mode": {
    "name": "ipython",
    "version": 3
   },
   "file_extension": ".py",
   "mimetype": "text/x-python",
   "name": "python",
   "nbconvert_exporter": "python",
   "pygments_lexer": "ipython3",
   "version": "2.7.16"
  },
  "orig_nbformat": 2,
  "kernelspec": {
   "name": "python3",
   "display_name": "Python 2.7.16 64-bit ('base': conda)",
   "metadata": {
    "interpreter": {
     "hash": "4e0433a132e809af46edf3ec5adc05f2aac74aa36ed4ce99e0d2f165c2fbe8aa"
    }
   }
  }
 },
 "nbformat": 4,
 "nbformat_minor": 2,
 "cells": [
  {
   "source": [
    "### on commence d'abord par importer les bibliothéques qui nous seront  utiles sur ce projet "
   ],
   "cell_type": "markdown",
   "metadata": {}
  },
  {
   "cell_type": "code",
   "execution_count": 1,
   "metadata": {},
   "outputs": [],
   "source": [
    "import numpy as np\n",
    "import pandas as pd\n",
    "from pandas import DataFrame\n",
    "from ipywidgets import interact \n",
    "from matplotlib import pyplot as plt\n",
    "from download import download\n",
    "from datetime import datetime\n",
    "import json\n",
    "from pandas import Series\n",
    "from ipywidgets import interact"
   ]
  },
  {
   "source": [],
   "cell_type": "markdown",
   "metadata": {}
  },
  {
   "source": [
    "# on importe les données"
   ],
   "cell_type": "markdown",
   "metadata": {}
  },
  {
   "cell_type": "code",
   "execution_count": 2,
   "metadata": {},
   "outputs": [
    {
     "output_type": "stream",
     "name": "stdout",
     "text": [
      "Replace is False and data exists, so doing nothing. Use replace=True to re-download the data.\n",
      "Replace is False and data exists, so doing nothing. Use replace=True to re-download the data.\n",
      "Replace is False and data exists, so doing nothing. Use replace=True to re-download the data.\n",
      "Replace is False and data exists, so doing nothing. Use replace=True to re-download the data.\n",
      "Replace is False and data exists, so doing nothing. Use replace=True to re-download the data.\n",
      "Replace is False and data exists, so doing nothing. Use replace=True to re-download the data.\n",
      "Replace is False and data exists, so doing nothing. Use replace=True to re-download the data.\n",
      "Replace is False and data exists, so doing nothing. Use replace=True to re-download the data.\n",
      "Replace is False and data exists, so doing nothing. Use replace=True to re-download the data.\n",
      "Replace is False and data exists, so doing nothing. Use replace=True to re-download the data.\n"
     ]
    }
   ],
   "source": [
    "url = 'https://data.montpellier3m.fr/sites/default/files/ressources/MMM_EcoCompt_X2H20042633_archive.json'\n",
    "path_target = \"bike1_traffic.json\"\n",
    "download(url, path_target, replace=False)\n",
    "bike1_traffic_df = pd.read_json('bike1_traffic.json', lines=True)\n",
    "\n",
    "url='https://data.montpellier3m.fr/sites/default/files/ressources/MMM_EcoCompt_X2H19070220_archive.json'\n",
    "path_target = \"bike2_traffic.json\"\n",
    "download(url, path_target, replace= False)\n",
    "#%%\n",
    "bike2_traffic_df = pd.read_json('bike2_traffic.json', lines=True)\n",
    "\n",
    "url='https://data.montpellier3m.fr/sites/default/files/ressources/MMM_EcoCompt_X2H20042632_archive.json'\n",
    "path_target = \"bike3_traffic.json\"\n",
    "download(url, path_target, replace= False)\n",
    "#%%\n",
    "bike3_traffic_df = pd.read_json('bike3_traffic.json', lines=True)\n",
    "\n",
    "url='https://data.montpellier3m.fr/sites/default/files/ressources/MMM_EcoCompt_X2H20042634_archive.json'\n",
    "path_target = \"bike4_traffic.json\"\n",
    "download(url, path_target, replace= False)\n",
    "#%%\n",
    "bike4_traffic_df = pd.read_json('bike4_traffic.json', lines=True)\n",
    "\n",
    "url='https://data.montpellier3m.fr/sites/default/files/ressources/MMM_EcoCompt_X2H20042635_archive.json'\n",
    "path_target = \"bike5_traffic.json\"\n",
    "download(url, path_target, replace= False)\n",
    "#%%\n",
    "bike5_traffic_df = pd.read_json('bike5_traffic.json', lines=True)\n",
    "\n",
    "url='https://data.montpellier3m.fr/sites/default/files/ressources/MMM_EcoCompt_X2H20063161_archive.json'\n",
    "path_target = \"bike6_traffic.json\"\n",
    "download(url, path_target, replace= False)\n",
    "#%%\n",
    "bike6_traffic_df = pd.read_json('bike6_traffic.json', lines=True)\n",
    "\n",
    "url='https://data.montpellier3m.fr/sites/default/files/ressources/MMM_EcoCompt_X2H20063162_archive.json'\n",
    "path_target = \"bike7_traffic.json\"\n",
    "download(url, path_target, replace= False)\n",
    "#%%\n",
    "bike7_traffic_df = pd.read_json('bike7_traffic.json', lines=True)\n",
    "\n",
    "url='https://data.montpellier3m.fr/sites/default/files/ressources/MMM_EcoCompt_XTH19101158_archive.json'\n",
    "path_target = \"bike8_traffic.json\"\n",
    "download(url, path_target, replace= False)\n",
    "#%%\n",
    "bike8_traffic_df = pd.read_json('bike8_traffic.json', lines=True)\n",
    "\n",
    "url='https://data.montpellier3m.fr/sites/default/files/ressources/MMM_EcoCompt_X2H20063163_archive.json'\n",
    "path_target = \"bike9_traffic.json\"\n",
    "download(url, path_target, replace= False)\n",
    "#%%\n",
    "bike9_traffic_df = pd.read_json('bike9_traffic.json', lines=True)\n",
    "\n",
    "url='https://data.montpellier3m.fr/sites/default/files/ressources/MMM_EcoCompt_X2H20063164_archive.json'\n",
    "path_target = \"bike10_traffic.json\"\n",
    "download(url, path_target, replace= False)\n",
    "#%%\n",
    "bike10_traffic_df = pd.read_json('bike10_traffic.json', lines=True)\n",
    "\n"
   ]
  },
  {
   "source": [],
   "cell_type": "markdown",
   "metadata": {}
  },
  {
   "source": [
    "# on ajoute start_of_day et end_of_day"
   ],
   "cell_type": "markdown",
   "metadata": {}
  },
  {
   "source": [],
   "cell_type": "markdown",
   "metadata": {}
  },
  {
   "cell_type": "code",
   "execution_count": null,
   "metadata": {},
   "outputs": [],
   "source": [
    "data_test_df=bike1_traffic_df.join(bike1_traffic_df['dateObserved'].apply(lambda x: Series(x.split('/'))))\n",
    "data_test_df=data_test_df.rename(columns = {0: 'start_of_day', 1: 'end_of_day'}) \n",
    "\n",
    "data_test_df['start_of_day'] = data_test_df['start_of_day'].str.replace('T',' ')"
   ]
  },
  {
   "source": [],
   "cell_type": "markdown",
   "metadata": {}
  },
  {
   "cell_type": "code",
   "execution_count": null,
   "metadata": {},
   "outputs": [],
   "source": [
    "time_improved = pd.to_datetime(data_test_df['start_of_day'] ,\n",
    "                               format='%Y-%m-%d %H:%M:%S')\n",
    "time_improved                       \n",
    "\n",
    "data_test_df['start_day'] = time_improved\n",
    "\n",
    "data_test_df= data_test_df.set_index(['start_day'])\n"
   ]
  },
  {
   "source": [
    "# on renomme intensité par les Totems "
   ],
   "cell_type": "markdown",
   "metadata": {}
  },
  {
   "cell_type": "code",
   "execution_count": null,
   "metadata": {},
   "outputs": [],
   "source": [
    "bike1_traffic_df=bike1_traffic_df.rename(columns = {'intensity': 'celleneuve'})\n",
    "\n",
    "bike2_traffic_df=bike2_traffic_df.rename(columns = {'intensity': 'barracasa'}) \n",
    "\n",
    "bike3_traffic_df=bike3_traffic_df.rename(columns = {'intensity': 'Laverune'}) \n",
    "\n",
    "bike4_traffic_df=bike4_traffic_df.rename(columns = {'intensity': 'Lattes 2'}) \n",
    "\n",
    "bike5_traffic_df=bike5_traffic_df.rename(columns = {'intensity': 'Lattes 1'}) \n",
    "\n",
    "bike6_traffic_df=bike6_traffic_df.rename(columns = {'intensity': 'Vieille poste'}) \n",
    "\n",
    "bike7_traffic_df=bike7_traffic_df.rename(columns = {'intensity': 'Gerhardt'})\n",
    "\n",
    "bike8_traffic_df=bike8_traffic_df.rename(columns = {'intensity': 'Tanneurs'}) \n",
    "\n",
    "bike9_traffic_df=bike9_traffic_df.rename(columns = {'intensity': 'Delmas 1'}) \n",
    "\n",
    "bike10_traffic_df=bike10_traffic_df.rename(columns = {'intensity': 'Delmas 2'}) \n"
   ]
  },
  {
   "source": [
    "# renomme les données \n"
   ],
   "cell_type": "markdown",
   "metadata": {}
  },
  {
   "cell_type": "code",
   "execution_count": null,
   "metadata": {},
   "outputs": [],
   "source": [
    "data_reel = pd.DataFrame((bike1_traffic_df['celleneuve'], bike2_traffic_df['barracasa'],bike3_traffic_df['Laverune'],bike4_traffic_df['Lattes 2'],bike5_traffic_df['Lattes 1'],bike6_traffic_df['Vieille poste'],bike7_traffic_df['Gerhardt'],bike8_traffic_df['Tanneurs'],bike9_traffic_df['Delmas 1'],bike10_traffic_df['Delmas 2']))\n",
    "data_reel=data_reel.T\n",
    "\n"
   ]
  },
  {
   "source": [
    "\n"
   ],
   "cell_type": "markdown",
   "metadata": {}
  },
  {
   "cell_type": "code",
   "execution_count": null,
   "metadata": {},
   "outputs": [],
   "source": [
    "\n",
    "data_reel['startday'] = time_improved\n",
    "#%%\n",
    "data_reel = data_reel.set_index(['startday'])"
   ]
  },
  {
   "source": [
    "## les  Widgets"
   ],
   "cell_type": "markdown",
   "metadata": {}
  },
  {
   "cell_type": "code",
   "execution_count": null,
   "metadata": {},
   "outputs": [],
   "source": [
    "def hist_explore( position ='celleneuve', c='red' ):\n",
    "\n",
    "  \n",
    "    fig, ax = plt.subplots(1, 1, figsize=(12, 6))\n",
    "\n",
    "    ax.plot(data_reel[position], '-*',color=c)\n",
    "    #ax.hist(df_titanic['Age'], density=density,\n",
    "            #bins=n_bins, alpha=alpha)  # standardization\n",
    "    plt.xlabel('Age')\n",
    "    plt.ylabel('Number of bike')\n",
    "    plt.title(\"courbes\")\n",
    "    plt.tight_layout()\n",
    "    plt.show()\n",
    "\n",
    "\n",
    "## todo CORRECT THE DENSITY OPTION.\n",
    "\n",
    "# %%\n",
    "\n",
    "interact(hist_explore ,position=['celleneuve','barracasa','Laverune','Lattes 2','Lattes 1','Vieille poste','Gerhardt','Tanneurs','Delmas 1','Delmas 2'] ,c=['red','maroon','blue','purple','lime'])\n"
   ]
  }
 ]
}